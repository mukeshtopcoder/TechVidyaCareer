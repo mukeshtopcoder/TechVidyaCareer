{
 "cells": [
  {
   "cell_type": "code",
   "execution_count": 1,
   "id": "0005adf3-dda8-4ce0-af04-121b5cbad3e9",
   "metadata": {},
   "outputs": [],
   "source": [
    "# WAYS TO CREATE AN ARRAY\n",
    "# array , arange , linspace\n",
    "# zeros , ones , zeros_like , ones_like , eye , identity"
   ]
  },
  {
   "cell_type": "code",
   "execution_count": 2,
   "id": "325832c6-2a29-49d0-a91d-0f194940278b",
   "metadata": {},
   "outputs": [],
   "source": [
    "import numpy as np"
   ]
  },
  {
   "cell_type": "code",
   "execution_count": 4,
   "id": "8a737bbd-6b63-4c10-bc83-7efc4d1a685e",
   "metadata": {},
   "outputs": [],
   "source": [
    "arr = np.zeros((3,3))"
   ]
  },
  {
   "cell_type": "code",
   "execution_count": 6,
   "id": "9314b35e-6622-45fd-bfe6-a85aaf24b0c8",
   "metadata": {},
   "outputs": [
    {
     "data": {
      "text/plain": [
       "array([[0., 0., 0.],\n",
       "       [0., 0., 0.],\n",
       "       [0., 0., 0.]])"
      ]
     },
     "execution_count": 6,
     "metadata": {},
     "output_type": "execute_result"
    }
   ],
   "source": [
    "arr"
   ]
  },
  {
   "cell_type": "code",
   "execution_count": 8,
   "id": "85ffb6c9-6f7d-4caf-bb1e-53e96b2935fe",
   "metadata": {},
   "outputs": [],
   "source": [
    "arr = np.zeros((3,3,),dtype=int)"
   ]
  },
  {
   "cell_type": "code",
   "execution_count": 9,
   "id": "2bc6eb23-4cd4-414c-a679-558fa6efefae",
   "metadata": {},
   "outputs": [
    {
     "data": {
      "text/plain": [
       "array([[0, 0, 0],\n",
       "       [0, 0, 0],\n",
       "       [0, 0, 0]])"
      ]
     },
     "execution_count": 9,
     "metadata": {},
     "output_type": "execute_result"
    }
   ],
   "source": [
    "arr"
   ]
  },
  {
   "cell_type": "code",
   "execution_count": 10,
   "id": "72fa6b05-cb80-4bfc-adb4-c479f029dd43",
   "metadata": {},
   "outputs": [],
   "source": [
    "arr = np.ones((3,3))"
   ]
  },
  {
   "cell_type": "code",
   "execution_count": 11,
   "id": "319f18df-9eb7-4b30-81bf-033de252b0f2",
   "metadata": {},
   "outputs": [
    {
     "data": {
      "text/plain": [
       "array([[1., 1., 1.],\n",
       "       [1., 1., 1.],\n",
       "       [1., 1., 1.]])"
      ]
     },
     "execution_count": 11,
     "metadata": {},
     "output_type": "execute_result"
    }
   ],
   "source": [
    "arr"
   ]
  },
  {
   "cell_type": "code",
   "execution_count": 14,
   "id": "d9e5956f-320d-4e83-8dd0-fae0d21843b5",
   "metadata": {},
   "outputs": [],
   "source": [
    "arr = np.ones((2,3),dtype=int)"
   ]
  },
  {
   "cell_type": "code",
   "execution_count": 15,
   "id": "e9c6bacc-59a6-4e43-9dd5-866ecc66f53d",
   "metadata": {},
   "outputs": [
    {
     "data": {
      "text/plain": [
       "array([[1, 1, 1],\n",
       "       [1, 1, 1]])"
      ]
     },
     "execution_count": 15,
     "metadata": {},
     "output_type": "execute_result"
    }
   ],
   "source": [
    "arr"
   ]
  },
  {
   "cell_type": "code",
   "execution_count": 18,
   "id": "eaf010ed-828b-4fba-b2fd-28407952e96b",
   "metadata": {},
   "outputs": [],
   "source": [
    "myarr = np.array([ [1,2,3,4],[5,6,7,8] ])"
   ]
  },
  {
   "cell_type": "code",
   "execution_count": 19,
   "id": "4bb28cf4-1e8d-44d8-8c3c-dd9eefb810a5",
   "metadata": {},
   "outputs": [
    {
     "data": {
      "text/plain": [
       "array([[1, 2, 3, 4],\n",
       "       [5, 6, 7, 8]])"
      ]
     },
     "execution_count": 19,
     "metadata": {},
     "output_type": "execute_result"
    }
   ],
   "source": [
    "myarr"
   ]
  },
  {
   "cell_type": "code",
   "execution_count": 22,
   "id": "df6f84b4-6670-41fa-ad52-c873df8e6fe0",
   "metadata": {},
   "outputs": [],
   "source": [
    "arr = np.zeros_like(myarr)"
   ]
  },
  {
   "cell_type": "code",
   "execution_count": 23,
   "id": "d8e28b68-5ba0-44a7-a1e2-6369fa8db87b",
   "metadata": {},
   "outputs": [
    {
     "data": {
      "text/plain": [
       "array([[0, 0, 0, 0],\n",
       "       [0, 0, 0, 0]])"
      ]
     },
     "execution_count": 23,
     "metadata": {},
     "output_type": "execute_result"
    }
   ],
   "source": [
    "arr"
   ]
  },
  {
   "cell_type": "code",
   "execution_count": 24,
   "id": "1d44fcc3-6445-44d8-a299-833bdf2302ee",
   "metadata": {},
   "outputs": [],
   "source": [
    "arr = np.ones_like(myarr)"
   ]
  },
  {
   "cell_type": "code",
   "execution_count": 25,
   "id": "9113cdcb-9630-445c-86c1-a9725fb66d02",
   "metadata": {},
   "outputs": [
    {
     "data": {
      "text/plain": [
       "array([[1, 1, 1, 1],\n",
       "       [1, 1, 1, 1]])"
      ]
     },
     "execution_count": 25,
     "metadata": {},
     "output_type": "execute_result"
    }
   ],
   "source": [
    "arr"
   ]
  },
  {
   "cell_type": "code",
   "execution_count": 26,
   "id": "01c82c8c-ffd9-4723-ae6d-cd3e5000e22b",
   "metadata": {},
   "outputs": [],
   "source": [
    "arr = np.eye(4)"
   ]
  },
  {
   "cell_type": "code",
   "execution_count": 27,
   "id": "9951ed73-0a95-4311-8990-305024608964",
   "metadata": {},
   "outputs": [
    {
     "data": {
      "text/plain": [
       "array([[1., 0., 0., 0.],\n",
       "       [0., 1., 0., 0.],\n",
       "       [0., 0., 1., 0.],\n",
       "       [0., 0., 0., 1.]])"
      ]
     },
     "execution_count": 27,
     "metadata": {},
     "output_type": "execute_result"
    }
   ],
   "source": [
    "arr"
   ]
  },
  {
   "cell_type": "code",
   "execution_count": 31,
   "id": "d9c4f763-9d50-4245-942a-47e4f082d6c1",
   "metadata": {},
   "outputs": [],
   "source": [
    "arr = np.eye(4,dtype=int)"
   ]
  },
  {
   "cell_type": "code",
   "execution_count": 32,
   "id": "12b5b247-fa57-4c44-a1b2-547ae926f5d0",
   "metadata": {},
   "outputs": [
    {
     "data": {
      "text/plain": [
       "array([[1, 0, 0, 0],\n",
       "       [0, 1, 0, 0],\n",
       "       [0, 0, 1, 0],\n",
       "       [0, 0, 0, 1]])"
      ]
     },
     "execution_count": 32,
     "metadata": {},
     "output_type": "execute_result"
    }
   ],
   "source": [
    "arr"
   ]
  },
  {
   "cell_type": "code",
   "execution_count": 35,
   "id": "a1d50368-e4fb-486c-b404-99103b023be9",
   "metadata": {},
   "outputs": [],
   "source": [
    "arr = np.eye(3,4)"
   ]
  },
  {
   "cell_type": "code",
   "execution_count": 36,
   "id": "6a9be0c2-1cfa-4530-b658-53e2d7694b2b",
   "metadata": {},
   "outputs": [
    {
     "data": {
      "text/plain": [
       "array([[1., 0., 0., 0.],\n",
       "       [0., 1., 0., 0.],\n",
       "       [0., 0., 1., 0.]])"
      ]
     },
     "execution_count": 36,
     "metadata": {},
     "output_type": "execute_result"
    }
   ],
   "source": [
    "arr"
   ]
  },
  {
   "cell_type": "code",
   "execution_count": 37,
   "id": "472dec7f-73b6-4835-b024-296a4c1397c5",
   "metadata": {},
   "outputs": [],
   "source": [
    "arr = np.eye(3,4,dtype=int)"
   ]
  },
  {
   "cell_type": "code",
   "execution_count": 38,
   "id": "dd9adc17-cbf0-4777-a692-ab234d04db0d",
   "metadata": {},
   "outputs": [
    {
     "data": {
      "text/plain": [
       "array([[1, 0, 0, 0],\n",
       "       [0, 1, 0, 0],\n",
       "       [0, 0, 1, 0]])"
      ]
     },
     "execution_count": 38,
     "metadata": {},
     "output_type": "execute_result"
    }
   ],
   "source": [
    "arr"
   ]
  },
  {
   "cell_type": "code",
   "execution_count": 44,
   "id": "46c2c500-7ae3-4844-b50b-56268c8fa1e4",
   "metadata": {},
   "outputs": [],
   "source": [
    "# Only 1 Argument for shape\n",
    "arr = np.identity(4)"
   ]
  },
  {
   "cell_type": "code",
   "execution_count": 45,
   "id": "f6337399-3efa-4890-a437-6cbf6d1ab4e8",
   "metadata": {},
   "outputs": [
    {
     "data": {
      "text/plain": [
       "array([[1., 0., 0., 0.],\n",
       "       [0., 1., 0., 0.],\n",
       "       [0., 0., 1., 0.],\n",
       "       [0., 0., 0., 1.]])"
      ]
     },
     "execution_count": 45,
     "metadata": {},
     "output_type": "execute_result"
    }
   ],
   "source": [
    "arr"
   ]
  },
  {
   "cell_type": "code",
   "execution_count": 42,
   "id": "04ec7203-5677-468e-9f34-e62e9152e653",
   "metadata": {},
   "outputs": [],
   "source": [
    "arr = np.identity(3,dtype=int)"
   ]
  },
  {
   "cell_type": "code",
   "execution_count": 43,
   "id": "41071a18-af23-49c4-bc43-4b45b81d0c8e",
   "metadata": {},
   "outputs": [
    {
     "data": {
      "text/plain": [
       "array([[1, 0, 0],\n",
       "       [0, 1, 0],\n",
       "       [0, 0, 1]])"
      ]
     },
     "execution_count": 43,
     "metadata": {},
     "output_type": "execute_result"
    }
   ],
   "source": [
    "arr"
   ]
  },
  {
   "cell_type": "code",
   "execution_count": 68,
   "id": "aa3e4e5b-93d8-48c8-8654-ad699c1effe6",
   "metadata": {},
   "outputs": [],
   "source": [
    "# random functions \n",
    "# random (values between from 0 to 1) , randint\n",
    "# random (0,1]\n",
    "# randint (start,stop)"
   ]
  },
  {
   "cell_type": "code",
   "execution_count": 69,
   "id": "59b55ebe-83f5-4ecb-af5c-6928e51788ab",
   "metadata": {},
   "outputs": [],
   "source": [
    "arr = np.random.random(5)"
   ]
  },
  {
   "cell_type": "code",
   "execution_count": 70,
   "id": "92704c9d-40a4-42ee-a95d-e5aedbe5ca43",
   "metadata": {},
   "outputs": [
    {
     "data": {
      "text/plain": [
       "array([0.58725125, 0.84969213, 0.9588525 , 0.79966148, 0.99160413])"
      ]
     },
     "execution_count": 70,
     "metadata": {},
     "output_type": "execute_result"
    }
   ],
   "source": [
    "arr"
   ]
  },
  {
   "cell_type": "code",
   "execution_count": 95,
   "id": "3f28e67b-576c-494f-a263-9711b3a36884",
   "metadata": {},
   "outputs": [],
   "source": [
    "# randint\n",
    "arr = np.random.randint(1,10,3)"
   ]
  },
  {
   "cell_type": "code",
   "execution_count": 96,
   "id": "04eed580-6b89-4730-b20e-6d6da00e76f8",
   "metadata": {},
   "outputs": [
    {
     "data": {
      "text/plain": [
       "array([3, 8, 5], dtype=int32)"
      ]
     },
     "execution_count": 96,
     "metadata": {},
     "output_type": "execute_result"
    }
   ],
   "source": [
    "arr"
   ]
  },
  {
   "cell_type": "code",
   "execution_count": 152,
   "id": "3164ee0b-dd14-4f3f-ae78-e11881dc32d7",
   "metadata": {},
   "outputs": [],
   "source": [
    "arr = np.random.randint(1,10,(3,3))"
   ]
  },
  {
   "cell_type": "code",
   "execution_count": 153,
   "id": "e987868c-02f5-4b47-ac04-dbb20ffee870",
   "metadata": {},
   "outputs": [
    {
     "data": {
      "text/plain": [
       "array([[7, 7, 7],\n",
       "       [6, 5, 1],\n",
       "       [6, 1, 9]], dtype=int32)"
      ]
     },
     "execution_count": 153,
     "metadata": {},
     "output_type": "execute_result"
    }
   ],
   "source": [
    "arr"
   ]
  },
  {
   "cell_type": "code",
   "execution_count": 154,
   "id": "ef49611e-1734-48ef-a620-45dd3e12dd89",
   "metadata": {},
   "outputs": [],
   "source": [
    "import random"
   ]
  },
  {
   "cell_type": "code",
   "execution_count": 155,
   "id": "f8891923-d72b-488d-9bdf-7a767ba2fb73",
   "metadata": {},
   "outputs": [
    {
     "name": "stdout",
     "output_type": "stream",
     "text": [
      "2\n"
     ]
    }
   ],
   "source": [
    "print(random.randint(1,4))"
   ]
  },
  {
   "cell_type": "code",
   "execution_count": 163,
   "id": "4b5e490c-e49b-49f6-beae-7ef41f230caa",
   "metadata": {},
   "outputs": [],
   "source": [
    "# full\n",
    "arr = np.full((3,3),8)"
   ]
  },
  {
   "cell_type": "code",
   "execution_count": 164,
   "id": "540ce593-a3ce-44ce-ae4b-c4dbc4bd0fb4",
   "metadata": {},
   "outputs": [
    {
     "data": {
      "text/plain": [
       "array([[8, 8, 8],\n",
       "       [8, 8, 8],\n",
       "       [8, 8, 8]])"
      ]
     },
     "execution_count": 164,
     "metadata": {},
     "output_type": "execute_result"
    }
   ],
   "source": [
    "arr"
   ]
  },
  {
   "cell_type": "code",
   "execution_count": 169,
   "id": "691fdb37-e73a-4c07-8493-05d22a7409bd",
   "metadata": {},
   "outputs": [],
   "source": [
    "# diag\n",
    "arr = np.diag((2,4,5,7,9,3))"
   ]
  },
  {
   "cell_type": "code",
   "execution_count": 170,
   "id": "a7049b98-efc6-4473-97b9-9549fb6464b1",
   "metadata": {},
   "outputs": [
    {
     "data": {
      "text/plain": [
       "array([[2, 0, 0, 0, 0, 0],\n",
       "       [0, 4, 0, 0, 0, 0],\n",
       "       [0, 0, 5, 0, 0, 0],\n",
       "       [0, 0, 0, 7, 0, 0],\n",
       "       [0, 0, 0, 0, 9, 0],\n",
       "       [0, 0, 0, 0, 0, 3]])"
      ]
     },
     "execution_count": 170,
     "metadata": {},
     "output_type": "execute_result"
    }
   ],
   "source": [
    "arr"
   ]
  },
  {
   "cell_type": "code",
   "execution_count": 171,
   "id": "76a65487-fc54-4e24-81ea-ec29b3666d74",
   "metadata": {},
   "outputs": [
    {
     "data": {
      "text/plain": [
       "(array([2, 4, 6, 7, 9]), numpy.ndarray)"
      ]
     },
     "execution_count": 171,
     "metadata": {},
     "output_type": "execute_result"
    }
   ],
   "source": [
    "# How do you create a NumPy array from a Python list?\n",
    "li = [2,4,6,7,9]\n",
    "arr = np.array(li)\n",
    "arr , type(arr)"
   ]
  },
  {
   "cell_type": "code",
   "execution_count": 175,
   "id": "58bb9bcf-2897-418c-b428-3db3bcbb496e",
   "metadata": {},
   "outputs": [],
   "source": [
    "#What is the difference between np.array() and np.asarray()?\n",
    "arr2 = np.asarray(arr)"
   ]
  },
  {
   "cell_type": "code",
   "execution_count": 176,
   "id": "f241d726-b199-4baf-9810-bc1070b93d9e",
   "metadata": {},
   "outputs": [
    {
     "data": {
      "text/plain": [
       "array([2, 4, 6, 7, 9])"
      ]
     },
     "execution_count": 176,
     "metadata": {},
     "output_type": "execute_result"
    }
   ],
   "source": [
    "arr2"
   ]
  },
  {
   "cell_type": "code",
   "execution_count": 177,
   "id": "aa080d28-a38e-4c62-a881-fbe4b0037b58",
   "metadata": {},
   "outputs": [
    {
     "data": {
      "text/plain": [
       "array([2, 4, 6, 7, 9])"
      ]
     },
     "execution_count": 177,
     "metadata": {},
     "output_type": "execute_result"
    }
   ],
   "source": [
    "arr"
   ]
  },
  {
   "cell_type": "code",
   "execution_count": 178,
   "id": "9c7a24d5-a09d-4a11-aeae-37befecabea8",
   "metadata": {},
   "outputs": [
    {
     "data": {
      "text/plain": [
       "(numpy.ndarray, (5,), 5)"
      ]
     },
     "execution_count": 178,
     "metadata": {},
     "output_type": "execute_result"
    }
   ],
   "source": [
    "type(arr) , arr.shape , arr.size"
   ]
  },
  {
   "cell_type": "code",
   "execution_count": 179,
   "id": "cef123e9-50a5-47a0-b616-5313a8aa0e44",
   "metadata": {},
   "outputs": [],
   "source": [
    "arr = np.array([[2,3,5],[2,4,6]])"
   ]
  },
  {
   "cell_type": "code",
   "execution_count": 180,
   "id": "02d4c4f0-30ce-4537-9f3e-592d157bc09f",
   "metadata": {},
   "outputs": [
    {
     "data": {
      "text/plain": [
       "array([[2, 3, 5],\n",
       "       [2, 4, 6]])"
      ]
     },
     "execution_count": 180,
     "metadata": {},
     "output_type": "execute_result"
    }
   ],
   "source": [
    "arr"
   ]
  },
  {
   "cell_type": "code",
   "execution_count": 181,
   "id": "be936251-6531-4246-be3e-724eeb5b58ef",
   "metadata": {},
   "outputs": [
    {
     "data": {
      "text/plain": [
       "(numpy.ndarray, (2, 3), 6)"
      ]
     },
     "execution_count": 181,
     "metadata": {},
     "output_type": "execute_result"
    }
   ],
   "source": [
    "type(arr) , arr.shape , arr.size"
   ]
  },
  {
   "cell_type": "code",
   "execution_count": 182,
   "id": "0dd3ba5f-79ba-44c0-ad1d-7c0c9691d55d",
   "metadata": {},
   "outputs": [
    {
     "data": {
      "text/plain": [
       "array([[2, 3, 5],\n",
       "       [2, 4, 6]])"
      ]
     },
     "execution_count": 182,
     "metadata": {},
     "output_type": "execute_result"
    }
   ],
   "source": [
    "arr"
   ]
  },
  {
   "cell_type": "code",
   "execution_count": 183,
   "id": "6099ca89-e0b5-4fae-b6ee-bbcc6df7d123",
   "metadata": {},
   "outputs": [
    {
     "data": {
      "text/plain": [
       "(2, 3)"
      ]
     },
     "execution_count": 183,
     "metadata": {},
     "output_type": "execute_result"
    }
   ],
   "source": [
    "arr.shape"
   ]
  },
  {
   "cell_type": "code",
   "execution_count": 188,
   "id": "cca1c53c-2941-4b94-b029-d44e332e8fd5",
   "metadata": {},
   "outputs": [
    {
     "data": {
      "text/plain": [
       "array([[2, 3],\n",
       "       [5, 2],\n",
       "       [4, 6]])"
      ]
     },
     "execution_count": 188,
     "metadata": {},
     "output_type": "execute_result"
    }
   ],
   "source": [
    "arr.reshape(3,2)"
   ]
  },
  {
   "cell_type": "code",
   "execution_count": 191,
   "id": "07e1b5ad-6718-48b9-b154-5407c729b24a",
   "metadata": {},
   "outputs": [],
   "source": [
    "# How do you generate a random 5×5 matrix using NumPy?\n",
    "arr = np.random.randint(1,10,(5,5))"
   ]
  },
  {
   "cell_type": "code",
   "execution_count": 192,
   "id": "0d90b196-be7f-4cfd-9026-044bbee2ed52",
   "metadata": {},
   "outputs": [
    {
     "data": {
      "text/plain": [
       "array([[5, 8, 7, 7, 6],\n",
       "       [6, 9, 9, 6, 6],\n",
       "       [6, 9, 2, 9, 1],\n",
       "       [4, 9, 2, 6, 7],\n",
       "       [3, 4, 1, 2, 1]], dtype=int32)"
      ]
     },
     "execution_count": 192,
     "metadata": {},
     "output_type": "execute_result"
    }
   ],
   "source": [
    "arr"
   ]
  },
  {
   "cell_type": "code",
   "execution_count": 198,
   "id": "eff1fa13-271f-4787-9254-5e1adbea0537",
   "metadata": {},
   "outputs": [
    {
     "name": "stdout",
     "output_type": "stream",
     "text": [
      "7\n",
      "8\n",
      "7\n",
      "6\n",
      "8\n",
      "8\n"
     ]
    }
   ],
   "source": [
    "# How do you filter an array to get all values greater than a given number?\n",
    "num = 5\n",
    "arr = np.array([2,4,7,8,7,5,4,6,8,0,8,5,3])\n",
    "for a in arr:\n",
    "    if(a>num):\n",
    "        print(a)"
   ]
  },
  {
   "cell_type": "code",
   "execution_count": 199,
   "id": "7be153d2-4b65-442a-80f6-19ffa6d21e20",
   "metadata": {},
   "outputs": [
    {
     "data": {
      "text/plain": [
       "[np.int64(7), np.int64(8), np.int64(7), np.int64(6), np.int64(8), np.int64(8)]"
      ]
     },
     "execution_count": 199,
     "metadata": {},
     "output_type": "execute_result"
    }
   ],
   "source": [
    "li"
   ]
  },
  {
   "cell_type": "code",
   "execution_count": null,
   "id": "040ce846-fcf9-4bac-99ae-35b08679d0b4",
   "metadata": {},
   "outputs": [],
   "source": []
  }
 ],
 "metadata": {
  "kernelspec": {
   "display_name": "Python 3 (ipykernel)",
   "language": "python",
   "name": "python3"
  },
  "language_info": {
   "codemirror_mode": {
    "name": "ipython",
    "version": 3
   },
   "file_extension": ".py",
   "mimetype": "text/x-python",
   "name": "python",
   "nbconvert_exporter": "python",
   "pygments_lexer": "ipython3",
   "version": "3.12.5"
  }
 },
 "nbformat": 4,
 "nbformat_minor": 5
}
