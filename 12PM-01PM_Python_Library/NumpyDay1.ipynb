{
 "cells": [
  {
   "cell_type": "code",
   "execution_count": 4,
   "id": "4216b7e6-2c1f-4aa0-bb6b-25abb51e6569",
   "metadata": {},
   "outputs": [],
   "source": [
    "# numpy Library\n",
    "# numeric library (Numerical in Python)\n",
    "# importing numpy\n",
    "import numpy as np"
   ]
  },
  {
   "cell_type": "code",
   "execution_count": 5,
   "id": "2f566ae7-d456-4db4-b293-36c75ce9d2e4",
   "metadata": {},
   "outputs": [
    {
     "data": {
      "text/plain": [
       "[3, 5, 7, 8]"
      ]
     },
     "execution_count": 5,
     "metadata": {},
     "output_type": "execute_result"
    }
   ],
   "source": [
    "# Creating An Array\n",
    "# array , arange , linspace\n",
    "li = [3,5,7,8]\n",
    "li"
   ]
  },
  {
   "cell_type": "code",
   "execution_count": 6,
   "id": "2bf5d8cc-e06c-4279-8cc6-43f17a50f9a0",
   "metadata": {},
   "outputs": [],
   "source": [
    "# Creating An Array\n",
    "# array , arange , linspace\n",
    "ar = np.array([2,4,7,9,5])"
   ]
  },
  {
   "cell_type": "code",
   "execution_count": 7,
   "id": "5c802349-a186-4d92-bf28-38f4721932b1",
   "metadata": {},
   "outputs": [
    {
     "data": {
      "text/plain": [
       "array([2, 4, 7, 9, 5])"
      ]
     },
     "execution_count": 7,
     "metadata": {},
     "output_type": "execute_result"
    }
   ],
   "source": [
    "ar"
   ]
  },
  {
   "cell_type": "code",
   "execution_count": 8,
   "id": "4611b1dd-8eae-4635-b8f8-ca79abcb674b",
   "metadata": {},
   "outputs": [],
   "source": [
    "li = [2,3,2.5,'Aman','A',True]"
   ]
  },
  {
   "cell_type": "code",
   "execution_count": 9,
   "id": "78e83edd-fcad-445b-8932-973fc60e0b58",
   "metadata": {},
   "outputs": [
    {
     "data": {
      "text/plain": [
       "[2, 3, 2.5, 'Aman', 'A', True]"
      ]
     },
     "execution_count": 9,
     "metadata": {},
     "output_type": "execute_result"
    }
   ],
   "source": [
    "li"
   ]
  },
  {
   "cell_type": "code",
   "execution_count": 10,
   "id": "91a50d7d-2af9-45fd-b488-7ad8c0d57955",
   "metadata": {},
   "outputs": [],
   "source": [
    "ar = np.array([2,3,2.5,'Aman','A',True])"
   ]
  },
  {
   "cell_type": "code",
   "execution_count": 11,
   "id": "77bccb08-0463-4103-8ee9-6f86ad2a0bc4",
   "metadata": {},
   "outputs": [
    {
     "data": {
      "text/plain": [
       "array(['2', '3', '2.5', 'Aman', 'A', 'True'], dtype='<U32')"
      ]
     },
     "execution_count": 11,
     "metadata": {},
     "output_type": "execute_result"
    }
   ],
   "source": [
    "ar"
   ]
  },
  {
   "cell_type": "code",
   "execution_count": 12,
   "id": "fb3d0485-d77e-405a-a379-9ead8a3d7147",
   "metadata": {},
   "outputs": [],
   "source": [
    "# arange\n",
    "ar = np.arange(1,20,3)"
   ]
  },
  {
   "cell_type": "code",
   "execution_count": 13,
   "id": "8bc9c6c9-1059-49d4-88f6-692c46d75268",
   "metadata": {},
   "outputs": [
    {
     "data": {
      "text/plain": [
       "array([ 1,  4,  7, 10, 13, 16, 19])"
      ]
     },
     "execution_count": 13,
     "metadata": {},
     "output_type": "execute_result"
    }
   ],
   "source": [
    "ar"
   ]
  },
  {
   "cell_type": "code",
   "execution_count": 14,
   "id": "112b55e4-222d-4bd9-ac39-482366666638",
   "metadata": {},
   "outputs": [],
   "source": [
    "ar = np.arange(1,101)"
   ]
  },
  {
   "cell_type": "code",
   "execution_count": 15,
   "id": "346c06c0-3047-491f-85da-4d2a154e37ec",
   "metadata": {},
   "outputs": [
    {
     "data": {
      "text/plain": [
       "array([  1,   2,   3,   4,   5,   6,   7,   8,   9,  10,  11,  12,  13,\n",
       "        14,  15,  16,  17,  18,  19,  20,  21,  22,  23,  24,  25,  26,\n",
       "        27,  28,  29,  30,  31,  32,  33,  34,  35,  36,  37,  38,  39,\n",
       "        40,  41,  42,  43,  44,  45,  46,  47,  48,  49,  50,  51,  52,\n",
       "        53,  54,  55,  56,  57,  58,  59,  60,  61,  62,  63,  64,  65,\n",
       "        66,  67,  68,  69,  70,  71,  72,  73,  74,  75,  76,  77,  78,\n",
       "        79,  80,  81,  82,  83,  84,  85,  86,  87,  88,  89,  90,  91,\n",
       "        92,  93,  94,  95,  96,  97,  98,  99, 100])"
      ]
     },
     "execution_count": 15,
     "metadata": {},
     "output_type": "execute_result"
    }
   ],
   "source": [
    "ar"
   ]
  },
  {
   "cell_type": "code",
   "execution_count": 16,
   "id": "3b4de967-6fa1-4c18-b21f-5e2b466ffd35",
   "metadata": {},
   "outputs": [],
   "source": [
    "# linspace\n",
    "ar = np.linspace(0.5,5,10)"
   ]
  },
  {
   "cell_type": "code",
   "execution_count": 17,
   "id": "1af8c6fb-16c3-41d6-bbe6-57c937d04125",
   "metadata": {},
   "outputs": [
    {
     "data": {
      "text/plain": [
       "array([0.5, 1. , 1.5, 2. , 2.5, 3. , 3.5, 4. , 4.5, 5. ])"
      ]
     },
     "execution_count": 17,
     "metadata": {},
     "output_type": "execute_result"
    }
   ],
   "source": [
    "ar"
   ]
  },
  {
   "cell_type": "code",
   "execution_count": 20,
   "id": "75e05caf-caea-46eb-87a6-85d78a12fe87",
   "metadata": {},
   "outputs": [],
   "source": [
    "ar = np.linspace(0,1,100)"
   ]
  },
  {
   "cell_type": "code",
   "execution_count": 21,
   "id": "ac99fde6-3eff-44a5-a9e8-751a1e7778be",
   "metadata": {},
   "outputs": [
    {
     "data": {
      "text/plain": [
       "array([0.        , 0.01010101, 0.02020202, 0.03030303, 0.04040404,\n",
       "       0.05050505, 0.06060606, 0.07070707, 0.08080808, 0.09090909,\n",
       "       0.1010101 , 0.11111111, 0.12121212, 0.13131313, 0.14141414,\n",
       "       0.15151515, 0.16161616, 0.17171717, 0.18181818, 0.19191919,\n",
       "       0.2020202 , 0.21212121, 0.22222222, 0.23232323, 0.24242424,\n",
       "       0.25252525, 0.26262626, 0.27272727, 0.28282828, 0.29292929,\n",
       "       0.3030303 , 0.31313131, 0.32323232, 0.33333333, 0.34343434,\n",
       "       0.35353535, 0.36363636, 0.37373737, 0.38383838, 0.39393939,\n",
       "       0.4040404 , 0.41414141, 0.42424242, 0.43434343, 0.44444444,\n",
       "       0.45454545, 0.46464646, 0.47474747, 0.48484848, 0.49494949,\n",
       "       0.50505051, 0.51515152, 0.52525253, 0.53535354, 0.54545455,\n",
       "       0.55555556, 0.56565657, 0.57575758, 0.58585859, 0.5959596 ,\n",
       "       0.60606061, 0.61616162, 0.62626263, 0.63636364, 0.64646465,\n",
       "       0.65656566, 0.66666667, 0.67676768, 0.68686869, 0.6969697 ,\n",
       "       0.70707071, 0.71717172, 0.72727273, 0.73737374, 0.74747475,\n",
       "       0.75757576, 0.76767677, 0.77777778, 0.78787879, 0.7979798 ,\n",
       "       0.80808081, 0.81818182, 0.82828283, 0.83838384, 0.84848485,\n",
       "       0.85858586, 0.86868687, 0.87878788, 0.88888889, 0.8989899 ,\n",
       "       0.90909091, 0.91919192, 0.92929293, 0.93939394, 0.94949495,\n",
       "       0.95959596, 0.96969697, 0.97979798, 0.98989899, 1.        ])"
      ]
     },
     "execution_count": 21,
     "metadata": {},
     "output_type": "execute_result"
    }
   ],
   "source": [
    "ar"
   ]
  },
  {
   "cell_type": "code",
   "execution_count": 26,
   "id": "5b6f2213-b559-4ac5-8274-9ad9ecc1e439",
   "metadata": {},
   "outputs": [],
   "source": [
    "# Dimension\n",
    "# Zero Dimension Array\n",
    "ar = np.array(10)"
   ]
  },
  {
   "cell_type": "code",
   "execution_count": 27,
   "id": "09d5bb6f-6a1e-4340-ae18-bd692a3e7780",
   "metadata": {},
   "outputs": [
    {
     "data": {
      "text/plain": [
       "(array(10), 0, ())"
      ]
     },
     "execution_count": 27,
     "metadata": {},
     "output_type": "execute_result"
    }
   ],
   "source": [
    "ar , np.ndim(ar) , np.shape(ar)"
   ]
  },
  {
   "cell_type": "code",
   "execution_count": 30,
   "id": "46110f05-0880-4af2-86fb-947ad45c88d5",
   "metadata": {},
   "outputs": [
    {
     "data": {
      "text/plain": [
       "(array([2, 7, 9, 5, 3]), 1, (5,))"
      ]
     },
     "execution_count": 30,
     "metadata": {},
     "output_type": "execute_result"
    }
   ],
   "source": [
    "# One Dimension Array\n",
    "ar = np.array([2,7,9,5,3])\n",
    "ar , np.ndim(ar) , np.shape(ar)"
   ]
  },
  {
   "cell_type": "code",
   "execution_count": 31,
   "id": "40d0db55-4594-4d6a-86de-d42598ada2e1",
   "metadata": {},
   "outputs": [
    {
     "data": {
      "text/plain": [
       "(array([[2, 4, 6, 8]]), 2, (1, 4))"
      ]
     },
     "execution_count": 31,
     "metadata": {},
     "output_type": "execute_result"
    }
   ],
   "source": [
    "# Two Dimension Array\n",
    "ar = np.array( [ [2,4,6,8] ] )\n",
    "ar , np.ndim(ar) , np.shape(ar)"
   ]
  },
  {
   "cell_type": "code",
   "execution_count": 33,
   "id": "7960ab76-3bcb-4402-802f-17727d470f08",
   "metadata": {},
   "outputs": [
    {
     "data": {
      "text/plain": [
       "(array([[2, 4, 6, 8],\n",
       "        [2, 4, 5, 3]]),\n",
       " 2,\n",
       " (2, 4))"
      ]
     },
     "execution_count": 33,
     "metadata": {},
     "output_type": "execute_result"
    }
   ],
   "source": [
    "# Two Dimension Array\n",
    "ar = np.array( [ [2,4,6,8],[2,4,5,3] ] )\n",
    "ar , np.ndim(ar) , np.shape(ar)"
   ]
  },
  {
   "cell_type": "code",
   "execution_count": 36,
   "id": "6d03396c-aa7e-43dc-b475-b3011e8d3b74",
   "metadata": {},
   "outputs": [
    {
     "data": {
      "text/plain": [
       "(array([[[2, 4, 6, 7],\n",
       "         [3, 4, 6, 8]],\n",
       " \n",
       "        [[2, 4, 6, 7],\n",
       "         [3, 4, 6, 8]]]),\n",
       " 3,\n",
       " (2, 2, 4))"
      ]
     },
     "execution_count": 36,
     "metadata": {},
     "output_type": "execute_result"
    }
   ],
   "source": [
    "# Third Dimension Array\n",
    "ar = np.array([ [[2,4,6,7],[3,4,6,8]],[[2,4,6,7],[3,4,6,8]] ])\n",
    "ar , np.ndim(ar) , np.shape(ar)"
   ]
  },
  {
   "cell_type": "code",
   "execution_count": null,
   "id": "04ef92a6-8cbf-4a9c-ae6f-49284755ae62",
   "metadata": {},
   "outputs": [],
   "source": []
  }
 ],
 "metadata": {
  "kernelspec": {
   "display_name": "Python 3 (ipykernel)",
   "language": "python",
   "name": "python3"
  },
  "language_info": {
   "codemirror_mode": {
    "name": "ipython",
    "version": 3
   },
   "file_extension": ".py",
   "mimetype": "text/x-python",
   "name": "python",
   "nbconvert_exporter": "python",
   "pygments_lexer": "ipython3",
   "version": "3.12.5"
  }
 },
 "nbformat": 4,
 "nbformat_minor": 5
}
