{
 "cells": [
  {
   "cell_type": "code",
   "execution_count": 1,
   "id": "c4784739-abe9-4b59-b6f8-1d32d4663bb6",
   "metadata": {},
   "outputs": [],
   "source": [
    "# Numpy 2D Arrays\n",
    "import numpy as np"
   ]
  },
  {
   "cell_type": "code",
   "execution_count": 10,
   "id": "3c1b6c4f-cf88-489c-86af-8236a9a587e3",
   "metadata": {},
   "outputs": [],
   "source": [
    "mat = np.array([ [1,2,3],[4,5,6],[7,8,9] ])"
   ]
  },
  {
   "cell_type": "code",
   "execution_count": 11,
   "id": "14959202-8a1f-451e-a05e-a9beec058586",
   "metadata": {},
   "outputs": [
    {
     "data": {
      "text/plain": [
       "array([[1, 2, 3],\n",
       "       [4, 5, 6],\n",
       "       [7, 8, 9]])"
      ]
     },
     "execution_count": 11,
     "metadata": {},
     "output_type": "execute_result"
    }
   ],
   "source": [
    "mat"
   ]
  },
  {
   "cell_type": "code",
   "execution_count": 12,
   "id": "29e86266-5333-48bc-91b5-cbfee105e056",
   "metadata": {},
   "outputs": [
    {
     "data": {
      "text/plain": [
       "(3, 3)"
      ]
     },
     "execution_count": 12,
     "metadata": {},
     "output_type": "execute_result"
    }
   ],
   "source": [
    "mat.shape"
   ]
  },
  {
   "cell_type": "code",
   "execution_count": 13,
   "id": "a952d8e9-02cc-430a-bda0-0d6f0e8040ef",
   "metadata": {},
   "outputs": [
    {
     "name": "stdout",
     "output_type": "stream",
     "text": [
      "Rows :  3\n",
      "Columns :  3\n"
     ]
    }
   ],
   "source": [
    "print(\"Rows : \",mat.shape[0])\n",
    "print(\"Columns : \",mat.shape[1])"
   ]
  },
  {
   "cell_type": "code",
   "execution_count": 14,
   "id": "cb358132-7a44-46a8-a4d7-9c8fc7f9b7db",
   "metadata": {},
   "outputs": [
    {
     "data": {
      "text/plain": [
       "array([[1, 2, 3],\n",
       "       [4, 5, 6],\n",
       "       [7, 8, 9]])"
      ]
     },
     "execution_count": 14,
     "metadata": {},
     "output_type": "execute_result"
    }
   ],
   "source": [
    "mat"
   ]
  },
  {
   "cell_type": "code",
   "execution_count": 16,
   "id": "e49b4c2d-4c47-4430-b2ef-ab78369f0e82",
   "metadata": {},
   "outputs": [
    {
     "data": {
      "text/plain": [
       "array([4, 5, 6])"
      ]
     },
     "execution_count": 16,
     "metadata": {},
     "output_type": "execute_result"
    }
   ],
   "source": [
    "mat[1]"
   ]
  },
  {
   "cell_type": "code",
   "execution_count": 17,
   "id": "349c5967-c815-4b7b-a2a6-16cdbf6a1e0b",
   "metadata": {},
   "outputs": [
    {
     "data": {
      "text/plain": [
       "np.int64(2)"
      ]
     },
     "execution_count": 17,
     "metadata": {},
     "output_type": "execute_result"
    }
   ],
   "source": [
    "mat[0][1]"
   ]
  },
  {
   "cell_type": "code",
   "execution_count": 18,
   "id": "110e0625-32d8-4a5d-9314-3174e92660ff",
   "metadata": {},
   "outputs": [
    {
     "data": {
      "text/plain": [
       "np.int64(9)"
      ]
     },
     "execution_count": 18,
     "metadata": {},
     "output_type": "execute_result"
    }
   ],
   "source": [
    "mat[2][2]"
   ]
  },
  {
   "cell_type": "code",
   "execution_count": 24,
   "id": "cec8b38b-57dd-439f-bed6-3e0c74eb6bd7",
   "metadata": {},
   "outputs": [
    {
     "name": "stdout",
     "output_type": "stream",
     "text": [
      "1  2  3  \n",
      "4  5  6  \n",
      "7  8  9  \n"
     ]
    }
   ],
   "source": [
    "for i in range(0,3):\n",
    "    for j in range(0,3):\n",
    "        print(mat[i][j],end=\"  \")\n",
    "    print()"
   ]
  },
  {
   "cell_type": "code",
   "execution_count": 38,
   "id": "73dc71dd-1229-4967-af2c-446bd58dcd1f",
   "metadata": {},
   "outputs": [
    {
     "data": {
      "text/plain": [
       "(array([[1, 2, 3],\n",
       "        [4, 5, 6],\n",
       "        [7, 8, 9],\n",
       "        [2, 5, 7]]),\n",
       " array([[2, 5, 8],\n",
       "        [2, 6, 8],\n",
       "        [8, 5, 2],\n",
       "        [6, 3, 2]]))"
      ]
     },
     "execution_count": 38,
     "metadata": {},
     "output_type": "execute_result"
    }
   ],
   "source": [
    "mat1 = np.array([ [1,2,3],[4,5,6],[7,8,9],[2,5,7] ])\n",
    "mat2 = np.array([ [2,5,8],[2,6,8],[8,5,2],[6,3,2] ])\n",
    "mat1 , mat2"
   ]
  },
  {
   "cell_type": "code",
   "execution_count": 44,
   "id": "5ec8ae58-5c28-48bb-895c-9c0a14252195",
   "metadata": {},
   "outputs": [
    {
     "name": "stdout",
     "output_type": "stream",
     "text": [
      "3 7 11 \n",
      "6 11 14 \n",
      "15 13 11 \n",
      "8 8 9 \n"
     ]
    }
   ],
   "source": [
    "# Addition of two Matrix\n",
    "if(mat1.shape[0]==mat2.shape[0] and mat1.shape[1]==mat2.shape[1]):\n",
    "    for i in range(0,mat1.shape[0]):\n",
    "        for j in range(0,mat1.shape[1]):\n",
    "            print(mat1[i][j]+mat2[i][j],end=\" \")\n",
    "        print()\n",
    "else:\n",
    "    print(\"Addition Not Possible\")"
   ]
  },
  {
   "cell_type": "code",
   "execution_count": 45,
   "id": "95969f9f-ca98-40fe-9347-47ffc0e8e79a",
   "metadata": {},
   "outputs": [
    {
     "data": {
      "text/plain": [
       "array([[1, 2, 3],\n",
       "       [4, 5, 6],\n",
       "       [7, 8, 9]])"
      ]
     },
     "execution_count": 45,
     "metadata": {},
     "output_type": "execute_result"
    }
   ],
   "source": [
    "# Transpose Of A Matrix\n",
    "mat3 = np.array([ [1,2,3],[4,5,6],[7,8,9] ])\n",
    "mat3"
   ]
  },
  {
   "cell_type": "code",
   "execution_count": 49,
   "id": "f372322b-8cf0-4e08-a250-19f6aa3452e6",
   "metadata": {},
   "outputs": [
    {
     "name": "stdout",
     "output_type": "stream",
     "text": [
      "1   4   7   \n",
      "2   5   8   \n",
      "3   6   9   \n"
     ]
    }
   ],
   "source": [
    "for i in range(0,mat3.shape[0]):\n",
    "    for j in range(0,mat3.shape[1]):\n",
    "        print(mat3[j][i],end=\"   \")\n",
    "    print()"
   ]
  },
  {
   "cell_type": "code",
   "execution_count": 51,
   "id": "991f52c4-605c-4151-a7d0-8efaa96911dd",
   "metadata": {},
   "outputs": [
    {
     "data": {
      "text/plain": [
       "(array([[1, 2, 3],\n",
       "        [4, 5, 6],\n",
       "        [7, 8, 9]]),\n",
       " array([[2, 5, 8],\n",
       "        [2, 6, 8],\n",
       "        [8, 5, 2]]),\n",
       " array([[0, 0, 0],\n",
       "        [0, 0, 0],\n",
       "        [0, 0, 0]]))"
      ]
     },
     "execution_count": 51,
     "metadata": {},
     "output_type": "execute_result"
    }
   ],
   "source": [
    "mat1 = np.array([ [1,2,3],[4,5,6],[7,8,9] ])\n",
    "mat2 = np.array([ [2,5,8],[2,6,8],[8,5,2] ])\n",
    "mat3 = np.zeros_like(mat1)\n",
    "mat1 , mat2 , mat3"
   ]
  },
  {
   "cell_type": "code",
   "execution_count": 54,
   "id": "b773907a-059f-4aa2-a368-1c24446a9982",
   "metadata": {},
   "outputs": [],
   "source": [
    "for i in range(0,3):\n",
    "    for j in range(0,3):\n",
    "        val = 0\n",
    "        for k in range(0,3):\n",
    "            val = val + mat1[i][k]*mat2[k][j]\n",
    "        mat3[i][j] = val"
   ]
  },
  {
   "cell_type": "code",
   "execution_count": 55,
   "id": "fa1bce7d-e00b-432f-9a5e-e7116fce5e62",
   "metadata": {},
   "outputs": [
    {
     "data": {
      "text/plain": [
       "array([[ 30,  32,  30],\n",
       "       [ 66,  80,  84],\n",
       "       [102, 128, 138]])"
      ]
     },
     "execution_count": 55,
     "metadata": {},
     "output_type": "execute_result"
    }
   ],
   "source": [
    "mat3"
   ]
  },
  {
   "cell_type": "code",
   "execution_count": null,
   "id": "4bba1660-000f-4c2e-94df-c6ace691dfb0",
   "metadata": {},
   "outputs": [],
   "source": []
  }
 ],
 "metadata": {
  "kernelspec": {
   "display_name": "Python 3 (ipykernel)",
   "language": "python",
   "name": "python3"
  },
  "language_info": {
   "codemirror_mode": {
    "name": "ipython",
    "version": 3
   },
   "file_extension": ".py",
   "mimetype": "text/x-python",
   "name": "python",
   "nbconvert_exporter": "python",
   "pygments_lexer": "ipython3",
   "version": "3.12.5"
  }
 },
 "nbformat": 4,
 "nbformat_minor": 5
}
